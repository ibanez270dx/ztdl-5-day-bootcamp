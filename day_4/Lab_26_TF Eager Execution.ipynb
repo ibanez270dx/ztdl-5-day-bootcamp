{
 "cells": [
  {
   "cell_type": "markdown",
   "metadata": {},
   "source": [
    "# Eager Execution\n",
    "\n",
    "Adapted from: https://www.tensorflow.org/get_started/eager"
   ]
  },
  {
   "cell_type": "code",
   "execution_count": 1,
   "metadata": {},
   "outputs": [],
   "source": [
    "import os\n",
    "import matplotlib.pyplot as plt\n",
    "\n",
    "import tensorflow as tf\n",
    "import tensorflow.contrib.eager as tfe\n",
    "tf.enable_eager_execution()"
   ]
  },
  {
   "cell_type": "code",
   "execution_count": 2,
   "metadata": {},
   "outputs": [],
   "source": [
    "import pandas as pd\n",
    "import numpy as np\n",
    "%matplotlib inline\n",
    "import matplotlib.pyplot as plt"
   ]
  },
  {
   "cell_type": "code",
   "execution_count": 3,
   "metadata": {},
   "outputs": [],
   "source": [
    "train_dataset_fp = '../data/iris_training.csv'"
   ]
  },
  {
   "cell_type": "code",
   "execution_count": 4,
   "metadata": {},
   "outputs": [
    {
     "name": "stdout",
     "output_type": "stream",
     "text": [
      "120,4,setosa,versicolor,virginica\n",
      "6.4,2.8,5.6,2.2,2\n",
      "5.0,2.3,3.3,1.0,1\n",
      "4.9,2.5,4.5,1.7,2\n",
      "4.9,3.1,1.5,0.1,0\n"
     ]
    }
   ],
   "source": [
    "!head -n5 {train_dataset_fp}"
   ]
  },
  {
   "cell_type": "markdown",
   "metadata": {},
   "source": [
    "## Csv parser"
   ]
  },
  {
   "cell_type": "code",
   "execution_count": 5,
   "metadata": {},
   "outputs": [],
   "source": [
    "def parse_csv(line):\n",
    "    example_defaults = [[0.], [0.], [0.], [0.], [0]]\n",
    "    parsed_line = tf.decode_csv(line, example_defaults)\n",
    "    features = tf.reshape(parsed_line[:-1], shape=(4,))\n",
    "    label = tf.reshape(parsed_line[-1], shape=())\n",
    "    return features, label"
   ]
  },
  {
   "cell_type": "markdown",
   "metadata": {},
   "source": [
    "## Dataset API"
   ]
  },
  {
   "cell_type": "code",
   "execution_count": 6,
   "metadata": {},
   "outputs": [],
   "source": [
    "train_dataset = tf.data.TextLineDataset(train_dataset_fp)\n",
    "train_dataset = train_dataset.skip(1)\n",
    "train_dataset = train_dataset.map(parse_csv)\n",
    "train_dataset = train_dataset.shuffle(buffer_size=1000)\n",
    "train_dataset = train_dataset.batch(32)"
   ]
  },
  {
   "cell_type": "code",
   "execution_count": 7,
   "metadata": {},
   "outputs": [
    {
     "data": {
      "text/plain": [
       "<BatchDataset shapes: ((?, 4), (?,)), types: (tf.float32, tf.int32)>"
      ]
     },
     "execution_count": 7,
     "metadata": {},
     "output_type": "execute_result"
    }
   ],
   "source": [
    "train_dataset"
   ]
  },
  {
   "cell_type": "code",
   "execution_count": 8,
   "metadata": {},
   "outputs": [],
   "source": [
    "features, label = tfe.Iterator(train_dataset).next()"
   ]
  },
  {
   "cell_type": "code",
   "execution_count": 9,
   "metadata": {},
   "outputs": [
    {
     "data": {
      "text/plain": [
       "<tf.Tensor: id=41, shape=(32, 4), dtype=float32, numpy=\n",
       "array([[5.1, 3.8, 1.9, 0.4],\n",
       "       [5.4, 3.9, 1.7, 0.4],\n",
       "       [4.8, 3.4, 1.6, 0.2],\n",
       "       [4.4, 3.2, 1.3, 0.2],\n",
       "       [5.2, 3.4, 1.4, 0.2],\n",
       "       [6. , 3. , 4.8, 1.8],\n",
       "       [5.8, 2.7, 5.1, 1.9],\n",
       "       [6.9, 3.1, 4.9, 1.5],\n",
       "       [6.2, 2.8, 4.8, 1.8],\n",
       "       [6.4, 2.8, 5.6, 2.1],\n",
       "       [6.2, 2.2, 4.5, 1.5],\n",
       "       [6.5, 3. , 5.2, 2. ],\n",
       "       [5.6, 2.5, 3.9, 1.1],\n",
       "       [6.5, 3.2, 5.1, 2. ],\n",
       "       [5.7, 2.8, 4.1, 1.3],\n",
       "       [6.8, 3. , 5.5, 2.1],\n",
       "       [7.7, 3. , 6.1, 2.3],\n",
       "       [5.2, 3.5, 1.5, 0.2],\n",
       "       [5.9, 3.2, 4.8, 1.8],\n",
       "       [6.7, 3.1, 4.4, 1.4],\n",
       "       [6.9, 3.1, 5.1, 2.3],\n",
       "       [6.9, 3.2, 5.7, 2.3],\n",
       "       [6.6, 2.9, 4.6, 1.3],\n",
       "       [7.2, 3.6, 6.1, 2.5],\n",
       "       [4.6, 3.2, 1.4, 0.2],\n",
       "       [5.1, 3.5, 1.4, 0.3],\n",
       "       [5.8, 2.7, 4.1, 1. ],\n",
       "       [5.5, 2.4, 3.8, 1.1],\n",
       "       [6.7, 3.1, 5.6, 2.4],\n",
       "       [4.4, 2.9, 1.4, 0.2],\n",
       "       [5. , 3.5, 1.6, 0.6],\n",
       "       [5. , 2. , 3.5, 1. ]], dtype=float32)>"
      ]
     },
     "execution_count": 9,
     "metadata": {},
     "output_type": "execute_result"
    }
   ],
   "source": [
    "features"
   ]
  },
  {
   "cell_type": "code",
   "execution_count": 10,
   "metadata": {},
   "outputs": [
    {
     "data": {
      "text/plain": [
       "<tf.Tensor: id=42, shape=(32,), dtype=int32, numpy=\n",
       "array([0, 0, 0, 0, 0, 2, 2, 1, 2, 2, 1, 2, 1, 2, 1, 2, 2, 0, 1, 1, 2, 2,\n",
       "       1, 2, 0, 0, 1, 1, 2, 0, 0, 1], dtype=int32)>"
      ]
     },
     "execution_count": 10,
     "metadata": {},
     "output_type": "execute_result"
    }
   ],
   "source": [
    "label"
   ]
  },
  {
   "cell_type": "markdown",
   "metadata": {},
   "source": [
    "## Model"
   ]
  },
  {
   "cell_type": "markdown",
   "metadata": {},
   "source": [
    "Note that the model is outputting the logits, not the softmax probabilities."
   ]
  },
  {
   "cell_type": "code",
   "execution_count": 11,
   "metadata": {},
   "outputs": [],
   "source": [
    "model = tf.keras.Sequential([\n",
    "  tf.keras.layers.Dense(10, activation=\"relu\", input_shape=(4,)),\n",
    "  tf.keras.layers.Dense(10, activation=\"relu\"),\n",
    "  tf.keras.layers.Dense(3)\n",
    "])"
   ]
  },
  {
   "cell_type": "code",
   "execution_count": 12,
   "metadata": {},
   "outputs": [
    {
     "data": {
      "text/plain": [
       "<tensorflow.python.keras.engine.sequential.Sequential at 0x7fe8d888a588>"
      ]
     },
     "execution_count": 12,
     "metadata": {},
     "output_type": "execute_result"
    }
   ],
   "source": [
    "model"
   ]
  },
  {
   "cell_type": "markdown",
   "metadata": {},
   "source": [
    "model behaves like a function:"
   ]
  },
  {
   "cell_type": "code",
   "execution_count": 13,
   "metadata": {},
   "outputs": [
    {
     "data": {
      "text/plain": [
       "<tf.Tensor: id=128, shape=(32, 3), dtype=float32, numpy=\n",
       "array([[ 0.3509653 , -0.6901543 , -0.5312936 ],\n",
       "       [ 0.37027597, -0.69894475, -0.5254564 ],\n",
       "       [ 0.32529962, -0.65533453, -0.5230988 ],\n",
       "       [ 0.30054706, -0.5828816 , -0.4587801 ],\n",
       "       [ 0.34620255, -0.6692615 , -0.5167723 ],\n",
       "       [ 0.66383326, -0.96476066, -0.18249284],\n",
       "       [ 0.6790738 , -0.9957315 , -0.26657072],\n",
       "       [ 0.7122519 , -1.0275097 , -0.16877815],\n",
       "       [ 0.6942888 , -1.0025206 , -0.12468516],\n",
       "       [ 0.76960295, -1.1184478 , -0.25868678],\n",
       "       [ 0.6888686 , -0.9952306 , -0.06023258],\n",
       "       [ 0.7381606 , -1.0709777 , -0.1514027 ],\n",
       "       [ 0.55324936, -0.7999539 , -0.15658435],\n",
       "       [ 0.72798985, -1.0472342 , -0.14649901],\n",
       "       [ 0.5834281 , -0.8400976 , -0.16421606],\n",
       "       [ 0.7802255 , -1.1370046 , -0.15663636],\n",
       "       [ 0.89457893, -1.3013806 , -0.11678386],\n",
       "       [ 0.3532469 , -0.68461156, -0.53592575],\n",
       "       [ 0.64437544, -0.935505  , -0.23242721],\n",
       "       [ 0.62044716, -0.8702569 , -0.12253409],\n",
       "       [ 0.81018907, -1.131768  ,  0.02855107],\n",
       "       [ 0.80422014, -1.1688508 , -0.1585701 ],\n",
       "       [ 0.6570126 , -0.9503333 , -0.1775984 ],\n",
       "       [ 0.8494007 , -1.2215695 , -0.2274469 ],\n",
       "       [ 0.31582174, -0.6125058 , -0.48393992],\n",
       "       [ 0.33867174, -0.64423484, -0.48268983],\n",
       "       [ 0.5814165 , -0.8643054 , -0.25278062],\n",
       "       [ 0.5456448 , -0.7856753 , -0.13366137],\n",
       "       [ 0.80160964, -1.1589879 , -0.11887869],\n",
       "       [ 0.3043646 , -0.5882033 , -0.45990762],\n",
       "       [ 0.33900544, -0.606038  , -0.40271667],\n",
       "       [ 0.5183941 , -0.751287  , -0.10530961]], dtype=float32)>"
      ]
     },
     "execution_count": 13,
     "metadata": {},
     "output_type": "execute_result"
    }
   ],
   "source": [
    "model(features)"
   ]
  },
  {
   "cell_type": "markdown",
   "metadata": {},
   "source": [
    "In eager mode we can access the values of the weights directly:"
   ]
  },
  {
   "cell_type": "code",
   "execution_count": 14,
   "metadata": {},
   "outputs": [
    {
     "name": "stdout",
     "output_type": "stream",
     "text": [
      "Weight shape:  (4, 10)\n",
      "Weight tensor:  <tf.Variable 'dense/kernel:0' shape=(4, 10) dtype=float32, numpy=\n",
      "array([[-0.0666604 , -0.6421526 ,  0.34259224, -0.3948997 , -0.45712912,\n",
      "        -0.3223892 ,  0.3070292 , -0.3845565 ,  0.4529785 , -0.02162164],\n",
      "       [ 0.02600789, -0.16125071, -0.57985216, -0.5483285 , -0.05061054,\n",
      "        -0.00438744,  0.10745579, -0.02783763,  0.05014807, -0.00355053],\n",
      "       [ 0.61477375,  0.4192692 ,  0.00826001,  0.33067274, -0.40214407,\n",
      "        -0.0568012 , -0.5032681 , -0.17845199, -0.4352657 ,  0.34095633],\n",
      "       [-0.5953007 , -0.27772442,  0.42917633,  0.04444361,  0.54238164,\n",
      "        -0.15590179,  0.01005054, -0.03355569,  0.16410744,  0.1747669 ]],\n",
      "      dtype=float32)>\n",
      "\n",
      "Weight shape:  (10,)\n",
      "Weight tensor:  <tf.Variable 'dense/bias:0' shape=(10,) dtype=float32, numpy=array([0., 0., 0., 0., 0., 0., 0., 0., 0., 0.], dtype=float32)>\n",
      "\n",
      "Weight shape:  (10, 10)\n",
      "Weight tensor:  <tf.Variable 'dense_1/kernel:0' shape=(10, 10) dtype=float32, numpy=\n",
      "array([[ 0.4736662 ,  0.04214859,  0.25041342,  0.00215298, -0.2910762 ,\n",
      "        -0.4678267 ,  0.48536408, -0.35377285,  0.441172  ,  0.06055957],\n",
      "       [ 0.17756128,  0.16127473, -0.45916876,  0.47207642,  0.4881922 ,\n",
      "         0.15227723,  0.22683787, -0.4845177 ,  0.29889345, -0.15645656],\n",
      "       [-0.06348276, -0.27446043, -0.23571637, -0.1548245 ,  0.50992453,\n",
      "         0.07114172, -0.2948558 ,  0.299622  , -0.4263019 ,  0.05853337],\n",
      "       [ 0.26170337, -0.31916213,  0.15977442, -0.09543863,  0.38641167,\n",
      "        -0.4331469 , -0.44532886, -0.38668108,  0.19142532,  0.54768515],\n",
      "       [ 0.27292573,  0.2677558 , -0.3235535 ,  0.24774975,  0.05011284,\n",
      "        -0.1259608 ,  0.4279942 ,  0.00127661, -0.05333719, -0.11796534],\n",
      "       [-0.4043339 ,  0.2431165 , -0.24336383, -0.43937984,  0.18278152,\n",
      "         0.06795394, -0.00504822,  0.06915337, -0.457921  ,  0.01140654],\n",
      "       [-0.47974002,  0.30967343,  0.27373242, -0.15559548, -0.5063917 ,\n",
      "        -0.08956653,  0.09734023, -0.5448378 ,  0.07894754, -0.37774998],\n",
      "       [ 0.22164309, -0.5114218 ,  0.3973813 ,  0.3907132 ,  0.35316402,\n",
      "         0.14390612,  0.14055443,  0.24561346, -0.34465525,  0.2638253 ],\n",
      "       [-0.02666396, -0.5023235 , -0.26925403,  0.05936968,  0.03108394,\n",
      "        -0.24090812,  0.23517781,  0.3731562 ,  0.14691222, -0.35013783],\n",
      "       [ 0.19023323,  0.41608244,  0.07095367, -0.45067823, -0.0101577 ,\n",
      "        -0.44287148, -0.4949567 ,  0.3388903 ,  0.49730527, -0.32535627]],\n",
      "      dtype=float32)>\n",
      "\n",
      "Weight shape:  (10,)\n",
      "Weight tensor:  <tf.Variable 'dense_1/bias:0' shape=(10,) dtype=float32, numpy=array([0., 0., 0., 0., 0., 0., 0., 0., 0., 0.], dtype=float32)>\n",
      "\n",
      "Weight shape:  (10, 3)\n",
      "Weight tensor:  <tf.Variable 'dense_2/kernel:0' shape=(10, 3) dtype=float32, numpy=\n",
      "array([[ 0.12660128, -0.21761534, -0.03515393],\n",
      "       [ 0.27390242, -0.01117408, -0.4220413 ],\n",
      "       [-0.6433691 ,  0.23141807,  0.32639778],\n",
      "       [-0.36796483,  0.04706174, -0.3866752 ],\n",
      "       [ 0.18219692, -0.5543219 , -0.38954455],\n",
      "       [-0.66010857, -0.5125648 ,  0.6191759 ],\n",
      "       [ 0.3035695 , -0.5521441 , -0.20978358],\n",
      "       [ 0.33059835, -0.19581985,  0.65288293],\n",
      "       [ 0.19734854, -0.40979305, -0.48872292],\n",
      "       [ 0.04246765, -0.44796517, -0.1789124 ]], dtype=float32)>\n",
      "\n",
      "Weight shape:  (3,)\n",
      "Weight tensor:  <tf.Variable 'dense_2/bias:0' shape=(3,) dtype=float32, numpy=array([0., 0., 0.], dtype=float32)>\n",
      "\n"
     ]
    }
   ],
   "source": [
    "for i, v in enumerate(model.variables):\n",
    "    print(\"Weight shape: \", v.shape)\n",
    "    print(\"Weight tensor: \", v)\n",
    "    print()\n"
   ]
  },
  {
   "cell_type": "markdown",
   "metadata": {},
   "source": [
    "## Loss\n",
    "\n",
    "Loss is sparse categorical cross entropy"
   ]
  },
  {
   "cell_type": "code",
   "execution_count": 15,
   "metadata": {},
   "outputs": [],
   "source": [
    "def loss(model, x, y):\n",
    "    y_ = model(x)\n",
    "    return tf.losses.sparse_softmax_cross_entropy(labels=y, logits=y_)"
   ]
  },
  {
   "cell_type": "code",
   "execution_count": 16,
   "metadata": {},
   "outputs": [
    {
     "data": {
      "text/plain": [
       "<tf.Tensor: id=193, shape=(), dtype=float32, numpy=1.3284055>"
      ]
     },
     "execution_count": 16,
     "metadata": {},
     "output_type": "execute_result"
    }
   ],
   "source": [
    "loss(model, features, label)"
   ]
  },
  {
   "cell_type": "markdown",
   "metadata": {},
   "source": [
    "## Gradients\n",
    "\n",
    "In eager mode we can evaluate the gradients"
   ]
  },
  {
   "cell_type": "code",
   "execution_count": 17,
   "metadata": {},
   "outputs": [],
   "source": [
    "def grad(model, inputs, targets):\n",
    "    with tfe.GradientTape() as tape:\n",
    "        loss_value = loss(model, inputs, targets)\n",
    "    return tape.gradient(loss_value, model.variables)"
   ]
  },
  {
   "cell_type": "code",
   "execution_count": 18,
   "metadata": {},
   "outputs": [],
   "source": [
    "grads = grad(model, features, label)"
   ]
  },
  {
   "cell_type": "code",
   "execution_count": 19,
   "metadata": {},
   "outputs": [
    {
     "name": "stdout",
     "output_type": "stream",
     "text": [
      "Gradient shape:  (4, 10)\n",
      "Gradient tensor:  tf.Tensor(\n",
      "[[ 0.15521942  0.          0.08934666  0.          0.          0.\n",
      "  -0.8066237   0.          0.08769638  1.1584948 ]\n",
      " [-0.01534925  0.          0.03665588  0.          0.          0.\n",
      "  -0.36932454  0.         -0.02113988  0.5269268 ]\n",
      " [ 0.31399876  0.          0.030693    0.          0.          0.\n",
      "  -0.5549314   0.          0.13079289  0.8746899 ]\n",
      " [ 0.14579803  0.         -0.00932144  0.          0.          0.\n",
      "  -0.16414705  0.          0.03399986  0.30224282]], shape=(4, 10), dtype=float32)\n",
      "\n",
      "Gradient shape:  (10,)\n",
      "Gradient tensor:  tf.Tensor(\n",
      "[ 0.00312087  0.          0.01981303  0.          0.          0.\n",
      " -0.13139562  0.          0.00905018  0.18586995], shape=(10,), dtype=float32)\n",
      "\n",
      "Gradient shape:  (10, 10)\n",
      "Gradient tensor:  tf.Tensor(\n",
      "[[ 0.17515697  0.08807132 -0.03443405  0.          0.4275452   0.\n",
      "  -0.01889303  0.06978258  0.39836735  0.        ]\n",
      " [ 0.          0.          0.          0.          0.          0.\n",
      "   0.          0.          0.          0.        ]\n",
      " [ 0.13396956  0.06950169 -0.04078522  0.          0.34454122  0.\n",
      "   0.01662523  0.02496477  0.36287436  0.        ]\n",
      " [ 0.          0.          0.          0.          0.          0.\n",
      "   0.          0.          0.          0.        ]\n",
      " [ 0.          0.          0.          0.          0.          0.\n",
      "   0.          0.          0.          0.        ]\n",
      " [ 0.          0.          0.          0.          0.          0.\n",
      "   0.          0.          0.          0.        ]\n",
      " [ 0.00257463  0.          0.03913651  0.          0.00460376  0.\n",
      "  -0.10469157 -0.00198597 -0.09818363  0.        ]\n",
      " [ 0.          0.          0.          0.          0.          0.\n",
      "   0.          0.          0.          0.        ]\n",
      " [ 0.13344502  0.04931819  0.03112563  0.          0.31780055  0.\n",
      "  -0.14648792  0.06689324  0.16089585  0.        ]\n",
      " [ 0.1892309   0.10448077 -0.04813996  0.          0.48296565  0.\n",
      "  -0.01529492  0.03430853  0.4701084   0.        ]], shape=(10, 10), dtype=float32)\n",
      "\n",
      "Gradient shape:  (10,)\n",
      "Gradient tensor:  tf.Tensor(\n",
      "[ 0.11159988  0.04915815  0.00326205  0.          0.2672581   0.\n",
      " -0.07538361  0.05388365  0.18318145  0.        ], shape=(10,), dtype=float32)\n",
      "\n",
      "Gradient shape:  (10, 3)\n",
      "Gradient tensor:  tf.Tensor(\n",
      "[[ 4.2435822e-01 -2.0291249e-01 -2.2144574e-01]\n",
      " [ 4.8622554e-03 -1.1758325e-04 -4.7446722e-03]\n",
      " [ 8.3403931e-05  1.2211547e-04 -2.0551936e-04]\n",
      " [ 0.0000000e+00  0.0000000e+00  0.0000000e+00]\n",
      " [ 8.7773614e-02 -2.2450617e-02 -6.5322995e-02]\n",
      " [ 0.0000000e+00  0.0000000e+00  0.0000000e+00]\n",
      " [-7.6873675e-02  3.4115475e-02  4.2758204e-02]\n",
      " [ 3.6954567e-01 -1.6444173e-01 -2.0510393e-01]\n",
      " [ 4.1893077e-01 -2.1143301e-01 -2.0749775e-01]\n",
      " [ 0.0000000e+00  0.0000000e+00  0.0000000e+00]], shape=(10, 3), dtype=float32)\n",
      "\n",
      "Gradient shape:  (3,)\n",
      "Gradient tensor:  tf.Tensor([ 0.28639698 -0.1685972  -0.11779977], shape=(3,), dtype=float32)\n",
      "\n"
     ]
    }
   ],
   "source": [
    "for i, g in enumerate(grads):\n",
    "    print(\"Gradient shape: \", g.shape)\n",
    "    print(\"Gradient tensor: \", g)\n",
    "    print()\n"
   ]
  },
  {
   "cell_type": "markdown",
   "metadata": {},
   "source": [
    "## Optimizer\n",
    "\n",
    "Let's use simple gradient descent"
   ]
  },
  {
   "cell_type": "code",
   "execution_count": 20,
   "metadata": {},
   "outputs": [],
   "source": [
    "optimizer = tf.train.GradientDescentOptimizer(learning_rate=0.01)"
   ]
  },
  {
   "cell_type": "markdown",
   "metadata": {},
   "source": [
    "## Training Loop"
   ]
  },
  {
   "cell_type": "code",
   "execution_count": 21,
   "metadata": {},
   "outputs": [
    {
     "name": "stdout",
     "output_type": "stream",
     "text": [
      "Epoch 000: Loss: 1.199, Accuracy: 35.000%\n",
      "Epoch 050: Loss: 0.407, Accuracy: 85.000%\n",
      "Epoch 100: Loss: 0.258, Accuracy: 94.167%\n",
      "Epoch 150: Loss: 0.175, Accuracy: 97.500%\n",
      "Epoch 200: Loss: 0.131, Accuracy: 98.333%\n"
     ]
    }
   ],
   "source": [
    "train_loss_results = []\n",
    "train_accuracy_results = []\n",
    "\n",
    "num_epochs = 201\n",
    "\n",
    "# Loop over epochs\n",
    "for epoch in range(num_epochs):\n",
    "    \n",
    "    # accumulators for mean loss and accuracy\n",
    "    epoch_loss_avg = tfe.metrics.Mean()\n",
    "    epoch_accuracy = tfe.metrics.Accuracy()\n",
    "\n",
    "    # loop on dataset, for each batch:\n",
    "    for x, y in tfe.Iterator(train_dataset):\n",
    "        # Calculate gradients\n",
    "        grads = grad(model, x, y)\n",
    "        \n",
    "        # Apply gradients to the weights\n",
    "        optimizer.apply_gradients(zip(grads, model.variables),\n",
    "                                  global_step=tf.train.get_or_create_global_step())\n",
    "\n",
    "        # accumulate loss\n",
    "        epoch_loss_avg(loss(model, x, y))\n",
    "        \n",
    "        # calculate predictions\n",
    "        y_pred = tf.argmax(model(x), axis=1, output_type=tf.int32)\n",
    "        # acccumulate accuracy\n",
    "        epoch_accuracy(y_pred, y)\n",
    "\n",
    "    # end epoch\n",
    "    train_loss_results.append(epoch_loss_avg.result())\n",
    "    train_accuracy_results.append(epoch_accuracy.result())\n",
    "\n",
    "    if epoch % 50 == 0:\n",
    "        print(\"Epoch {:03d}: Loss: {:.3f}, Accuracy: {:.3%}\".format(epoch,\n",
    "                                                                    epoch_loss_avg.result(),\n",
    "                                                                    epoch_accuracy.result()))"
   ]
  },
  {
   "cell_type": "markdown",
   "metadata": {},
   "source": [
    "## Plot Metrics"
   ]
  },
  {
   "cell_type": "code",
   "execution_count": 22,
   "metadata": {},
   "outputs": [
    {
     "data": {
      "image/png": "[encoded data removed]",
      "text/plain": [
       "<Figure size 864x576 with 2 Axes>"
      ]
     },
     "metadata": {
      "needs_background": "light"
     },
     "output_type": "display_data"
    }
   ],
   "source": [
    "fig, axes = plt.subplots(2, sharex=True, figsize=(12, 8))\n",
    "fig.suptitle('Training Metrics')\n",
    "\n",
    "axes[0].set_ylabel(\"Loss\", fontsize=14)\n",
    "axes[0].plot(train_loss_results)\n",
    "\n",
    "axes[1].set_ylabel(\"Accuracy\", fontsize=14)\n",
    "axes[1].set_xlabel(\"Epoch\", fontsize=14)\n",
    "axes[1].plot(train_accuracy_results)\n",
    "\n",
    "plt.show()"
   ]
  },
  {
   "cell_type": "markdown",
   "metadata": {},
   "source": [
    "## Test"
   ]
  },
  {
   "cell_type": "code",
   "execution_count": 23,
   "metadata": {},
   "outputs": [],
   "source": [
    "test_fp = '../data/iris_test.csv'"
   ]
  },
  {
   "cell_type": "code",
   "execution_count": 24,
   "metadata": {},
   "outputs": [],
   "source": [
    "test_dataset = tf.data.TextLineDataset(test_fp)\n",
    "test_dataset = test_dataset.skip(1)             # skip header row\n",
    "test_dataset = test_dataset.map(parse_csv)      # parse each row with the funcition created earlier\n",
    "test_dataset = test_dataset.shuffle(1000)       # randomize\n",
    "test_dataset = test_dataset.batch(32)           # use the same batch size as the training set"
   ]
  },
  {
   "cell_type": "code",
   "execution_count": 25,
   "metadata": {},
   "outputs": [
    {
     "name": "stdout",
     "output_type": "stream",
     "text": [
      "Test set accuracy: 96.667%\n"
     ]
    }
   ],
   "source": [
    "test_accuracy = tfe.metrics.Accuracy()\n",
    "\n",
    "for (x, y) in tfe.Iterator(test_dataset):\n",
    "    prediction = tf.argmax(model(x), axis=1, output_type=tf.int32)\n",
    "    test_accuracy(prediction, y)\n",
    "\n",
    "print(\"Test set accuracy: {:.3%}\".format(test_accuracy.result()))"
   ]
  },
  {
   "cell_type": "code",
   "execution_count": 26,
   "metadata": {},
   "outputs": [
    {
     "name": "stdout",
     "output_type": "stream",
     "text": [
      "Example 0 prediction: Iris setosa\n",
      "Example 1 prediction: Iris versicolor\n",
      "Example 2 prediction: Iris virginica\n"
     ]
    }
   ],
   "source": [
    "class_ids = [\"Iris setosa\", \"Iris versicolor\", \"Iris virginica\"]\n",
    "\n",
    "predict_dataset = tf.convert_to_tensor([\n",
    "    [5.1, 3.3, 1.7, 0.5,],\n",
    "    [5.9, 3.0, 4.2, 1.5,],\n",
    "    [6.9, 3.1, 5.4, 2.1]\n",
    "])\n",
    "\n",
    "predictions = model(predict_dataset)\n",
    "\n",
    "for i, logits in enumerate(predictions):\n",
    "    class_idx = tf.argmax(logits).numpy()\n",
    "    name = class_ids[class_idx]\n",
    "    print(\"Example {} prediction: {}\".format(i, name))"
   ]
  },
  {
   "cell_type": "code",
   "execution_count": null,
   "metadata": {
    "collapsed": true
   },
   "outputs": [],
   "source": []
  }
 ],
 "metadata": {
  "kernelspec": {
   "display_name": "Python 3",
   "language": "python",
   "name": "python3"
  },
  "language_info": {
   "codemirror_mode": {
    "name": "ipython",
    "version": 3
   },
   "file_extension": ".py",
   "mimetype": "text/x-python",
   "name": "python",
   "nbconvert_exporter": "python",
   "pygments_lexer": "ipython3",
   "version": "3.6.6"
  }
 },
 "nbformat": 4,
 "nbformat_minor": 2
}
