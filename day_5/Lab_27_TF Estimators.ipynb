{
 "cells": [
  {
   "cell_type": "markdown",
   "metadata": {},
   "source": [
    "# Tensorflow Estimators"
   ]
  },
  {
   "cell_type": "code",
   "execution_count": 1,
   "metadata": {},
   "outputs": [],
   "source": [
    "import tensorflow as tf\n",
    "import pandas as pd"
   ]
  },
  {
   "cell_type": "code",
   "execution_count": 2,
   "metadata": {},
   "outputs": [],
   "source": [
    "df = pd.read_csv('../data/iris.csv')"
   ]
  },
  {
   "cell_type": "code",
   "execution_count": 3,
   "metadata": {},
   "outputs": [
    {
     "data": {
      "text/html": [
       "<div>\n",
       "<style scoped>\n",
       "    .dataframe tbody tr th:only-of-type {\n",
       "        vertical-align: middle;\n",
       "    }\n",
       "\n",
       "    .dataframe tbody tr th {\n",
       "        vertical-align: top;\n",
       "    }\n",
       "\n",
       "    .dataframe thead th {\n",
       "        text-align: right;\n",
       "    }\n",
       "</style>\n",
       "<table border=\"1\" class=\"dataframe\">\n",
       "  <thead>\n",
       "    <tr style=\"text-align: right;\">\n",
       "      <th></th>\n",
       "      <th>sepal_length</th>\n",
       "      <th>sepal_width</th>\n",
       "      <th>petal_length</th>\n",
       "      <th>petal_width</th>\n",
       "      <th>species</th>\n",
       "    </tr>\n",
       "  </thead>\n",
       "  <tbody>\n",
       "    <tr>\n",
       "      <th>0</th>\n",
       "      <td>5.1</td>\n",
       "      <td>3.5</td>\n",
       "      <td>1.4</td>\n",
       "      <td>0.2</td>\n",
       "      <td>setosa</td>\n",
       "    </tr>\n",
       "    <tr>\n",
       "      <th>1</th>\n",
       "      <td>4.9</td>\n",
       "      <td>3.0</td>\n",
       "      <td>1.4</td>\n",
       "      <td>0.2</td>\n",
       "      <td>setosa</td>\n",
       "    </tr>\n",
       "    <tr>\n",
       "      <th>2</th>\n",
       "      <td>4.7</td>\n",
       "      <td>3.2</td>\n",
       "      <td>1.3</td>\n",
       "      <td>0.2</td>\n",
       "      <td>setosa</td>\n",
       "    </tr>\n",
       "    <tr>\n",
       "      <th>3</th>\n",
       "      <td>4.6</td>\n",
       "      <td>3.1</td>\n",
       "      <td>1.5</td>\n",
       "      <td>0.2</td>\n",
       "      <td>setosa</td>\n",
       "    </tr>\n",
       "    <tr>\n",
       "      <th>4</th>\n",
       "      <td>5.0</td>\n",
       "      <td>3.6</td>\n",
       "      <td>1.4</td>\n",
       "      <td>0.2</td>\n",
       "      <td>setosa</td>\n",
       "    </tr>\n",
       "  </tbody>\n",
       "</table>\n",
       "</div>"
      ],
      "text/plain": [
       "   sepal_length  sepal_width  petal_length  petal_width species\n",
       "0           5.1          3.5           1.4          0.2  setosa\n",
       "1           4.9          3.0           1.4          0.2  setosa\n",
       "2           4.7          3.2           1.3          0.2  setosa\n",
       "3           4.6          3.1           1.5          0.2  setosa\n",
       "4           5.0          3.6           1.4          0.2  setosa"
      ]
     },
     "execution_count": 3,
     "metadata": {},
     "output_type": "execute_result"
    }
   ],
   "source": [
    "df.head()"
   ]
  },
  {
   "cell_type": "code",
   "execution_count": 26,
   "metadata": {},
   "outputs": [
    {
     "data": {
      "text/plain": [
       "Index(['sepal_length', 'sepal_width', 'petal_length', 'petal_width'], dtype='object')"
      ]
     },
     "execution_count": 26,
     "metadata": {},
     "output_type": "execute_result"
    }
   ],
   "source": [
    "X = df.drop('species', axis='columns')\n",
    "y = df['species']\n",
    "\n",
    "column_names = df.columns[:-1]\n",
    "column_names"
   ]
  },
  {
   "cell_type": "code",
   "execution_count": 5,
   "metadata": {},
   "outputs": [],
   "source": [
    "from sklearn.model_selection import train_test_split"
   ]
  },
  {
   "cell_type": "code",
   "execution_count": 6,
   "metadata": {},
   "outputs": [],
   "source": [
    "X_train, X_test, y_train, y_test = train_test_split(X, y, test_size=0.3, random_state=0)"
   ]
  },
  {
   "cell_type": "code",
   "execution_count": 7,
   "metadata": {},
   "outputs": [
    {
     "data": {
      "text/plain": [
       "60     versicolor\n",
       "116     virginica\n",
       "144     virginica\n",
       "119     virginica\n",
       "108     virginica\n",
       "Name: species, dtype: object"
      ]
     },
     "execution_count": 7,
     "metadata": {},
     "output_type": "execute_result"
    }
   ],
   "source": [
    "y_train.head()"
   ]
  },
  {
   "cell_type": "code",
   "execution_count": 8,
   "metadata": {},
   "outputs": [],
   "source": [
    "labels = ['setosa', 'versicolor', 'virginica']"
   ]
  },
  {
   "cell_type": "code",
   "execution_count": 9,
   "metadata": {},
   "outputs": [],
   "source": [
    "feature_columns = [\n",
    "    tf.feature_column.numeric_column(key=key)\n",
    "    for key in X_train.columns\n",
    "]"
   ]
  },
  {
   "cell_type": "code",
   "execution_count": 10,
   "metadata": {},
   "outputs": [
    {
     "data": {
      "text/plain": [
       "[_NumericColumn(key='sepal_length', shape=(1,), default_value=None, dtype=tf.float32, normalizer_fn=None),\n",
       " _NumericColumn(key='sepal_width', shape=(1,), default_value=None, dtype=tf.float32, normalizer_fn=None),\n",
       " _NumericColumn(key='petal_length', shape=(1,), default_value=None, dtype=tf.float32, normalizer_fn=None),\n",
       " _NumericColumn(key='petal_width', shape=(1,), default_value=None, dtype=tf.float32, normalizer_fn=None)]"
      ]
     },
     "execution_count": 10,
     "metadata": {},
     "output_type": "execute_result"
    }
   ],
   "source": [
    "feature_columns"
   ]
  },
  {
   "cell_type": "markdown",
   "metadata": {},
   "source": [
    "## Canned Estimators"
   ]
  },
  {
   "cell_type": "code",
   "execution_count": 11,
   "metadata": {},
   "outputs": [],
   "source": [
    "rm -rf ./models/iris/"
   ]
  },
  {
   "cell_type": "code",
   "execution_count": 12,
   "metadata": {},
   "outputs": [
    {
     "name": "stdout",
     "output_type": "stream",
     "text": [
      "INFO:tensorflow:Using default config.\n",
      "INFO:tensorflow:Using config: {'_model_dir': './models/iris/DNN/', '_tf_random_seed': None, '_save_summary_steps': 100, '_save_checkpoints_steps': None, '_save_checkpoints_secs': 600, '_session_config': None, '_keep_checkpoint_max': 5, '_keep_checkpoint_every_n_hours': 10000, '_log_step_count_steps': 100, '_train_distribute': None, '_device_fn': None, '_service': None, '_cluster_spec': <tensorflow.python.training.server_lib.ClusterSpec object at 0x7f2a6d0ac4a8>, '_task_type': 'worker', '_task_id': 0, '_global_id_in_cluster': 0, '_master': '', '_evaluation_master': '', '_is_chief': True, '_num_ps_replicas': 0, '_num_worker_replicas': 1}\n"
     ]
    }
   ],
   "source": [
    "model = tf.estimator.DNNClassifier(\n",
    "    hidden_units=[10, 10], \n",
    "    feature_columns=feature_columns,\n",
    "    model_dir='./models/iris/DNN/',\n",
    "    n_classes=3,\n",
    "    label_vocabulary=labels,\n",
    "    optimizer='Adam')"
   ]
  },
  {
   "cell_type": "code",
   "execution_count": 13,
   "metadata": {},
   "outputs": [],
   "source": [
    "batch_size=32\n",
    "train_steps=3000"
   ]
  },
  {
   "cell_type": "markdown",
   "metadata": {},
   "source": [
    "### Input function"
   ]
  },
  {
   "cell_type": "code",
   "execution_count": 14,
   "metadata": {},
   "outputs": [],
   "source": [
    "def input_fn(features, labels, batch_size, shuffle=True, repeat=None):\n",
    "    feature_dict = dict(features)\n",
    "\n",
    "    if labels is None:\n",
    "        inputs = feature_dict\n",
    "    else:\n",
    "        inputs = (feature_dict, labels)\n",
    "        \n",
    "    dataset = tf.data.Dataset.from_tensor_slices(inputs)\n",
    "    \n",
    "    if shuffle:\n",
    "        dataset = dataset.shuffle(1000)\n",
    "    \n",
    "    dataset = dataset.repeat(repeat)\n",
    "\n",
    "    return dataset.batch(batch_size)"
   ]
  },
  {
   "cell_type": "code",
   "execution_count": 15,
   "metadata": {},
   "outputs": [],
   "source": [
    "def train_input_fn():\n",
    "    return input_fn(X_train, y_train, batch_size)"
   ]
  },
  {
   "cell_type": "markdown",
   "metadata": {},
   "source": [
    "### Model Training"
   ]
  },
  {
   "cell_type": "code",
   "execution_count": 16,
   "metadata": {},
   "outputs": [
    {
     "name": "stdout",
     "output_type": "stream",
     "text": [
      "INFO:tensorflow:Calling model_fn.\n",
      "INFO:tensorflow:Done calling model_fn.\n",
      "INFO:tensorflow:Create CheckpointSaverHook.\n",
      "INFO:tensorflow:Graph was finalized.\n",
      "INFO:tensorflow:Running local_init_op.\n",
      "INFO:tensorflow:Done running local_init_op.\n",
      "INFO:tensorflow:Saving checkpoints for 0 into ./models/iris/DNN/model.ckpt.\n",
      "INFO:tensorflow:loss = 35.619354, step = 0\n",
      "INFO:tensorflow:global_step/sec: 231.432\n",
      "INFO:tensorflow:loss = 0.6928652, step = 100 (0.434 sec)\n",
      "INFO:tensorflow:global_step/sec: 289.623\n",
      "INFO:tensorflow:loss = 2.7589676, step = 200 (0.347 sec)\n",
      "INFO:tensorflow:global_step/sec: 288.208\n",
      "INFO:tensorflow:loss = 5.418964, step = 300 (0.345 sec)\n",
      "INFO:tensorflow:global_step/sec: 295.618\n",
      "INFO:tensorflow:loss = 1.6653299, step = 400 (0.339 sec)\n",
      "INFO:tensorflow:global_step/sec: 273.758\n",
      "INFO:tensorflow:loss = 4.0081143, step = 500 (0.366 sec)\n",
      "INFO:tensorflow:global_step/sec: 293.988\n",
      "INFO:tensorflow:loss = 0.31819138, step = 600 (0.341 sec)\n",
      "INFO:tensorflow:global_step/sec: 292.086\n",
      "INFO:tensorflow:loss = 2.935843, step = 700 (0.341 sec)\n",
      "INFO:tensorflow:global_step/sec: 298.832\n",
      "INFO:tensorflow:loss = 1.0190732, step = 800 (0.335 sec)\n",
      "INFO:tensorflow:global_step/sec: 303.55\n",
      "INFO:tensorflow:loss = 1.7731025, step = 900 (0.330 sec)\n",
      "INFO:tensorflow:global_step/sec: 292.2\n",
      "INFO:tensorflow:loss = 0.060777333, step = 1000 (0.342 sec)\n",
      "INFO:tensorflow:global_step/sec: 311.171\n",
      "INFO:tensorflow:loss = 3.5292342, step = 1100 (0.320 sec)\n",
      "INFO:tensorflow:global_step/sec: 298.153\n",
      "INFO:tensorflow:loss = 1.5651503, step = 1200 (0.336 sec)\n",
      "INFO:tensorflow:global_step/sec: 294.727\n",
      "INFO:tensorflow:loss = 2.540276, step = 1300 (0.341 sec)\n",
      "INFO:tensorflow:global_step/sec: 305.773\n",
      "INFO:tensorflow:loss = 1.0235044, step = 1400 (0.327 sec)\n",
      "INFO:tensorflow:global_step/sec: 297.492\n",
      "INFO:tensorflow:loss = 0.63240784, step = 1500 (0.335 sec)\n",
      "INFO:tensorflow:global_step/sec: 303.128\n",
      "INFO:tensorflow:loss = 1.8170317, step = 1600 (0.330 sec)\n",
      "INFO:tensorflow:global_step/sec: 299.403\n",
      "INFO:tensorflow:loss = 2.5553102, step = 1700 (0.334 sec)\n",
      "INFO:tensorflow:global_step/sec: 288.603\n",
      "INFO:tensorflow:loss = 0.71769994, step = 1800 (0.347 sec)\n",
      "INFO:tensorflow:global_step/sec: 284.413\n",
      "INFO:tensorflow:loss = 0.7315103, step = 1900 (0.351 sec)\n",
      "INFO:tensorflow:global_step/sec: 292.552\n",
      "INFO:tensorflow:loss = 0.9095635, step = 2000 (0.342 sec)\n",
      "INFO:tensorflow:global_step/sec: 289.064\n",
      "INFO:tensorflow:loss = 0.12446814, step = 2100 (0.346 sec)\n",
      "INFO:tensorflow:global_step/sec: 289.647\n",
      "INFO:tensorflow:loss = 1.9398044, step = 2200 (0.347 sec)\n",
      "INFO:tensorflow:global_step/sec: 287.13\n",
      "INFO:tensorflow:loss = 2.1020145, step = 2300 (0.346 sec)\n",
      "INFO:tensorflow:global_step/sec: 270.198\n",
      "INFO:tensorflow:loss = 1.5765686, step = 2400 (0.370 sec)\n",
      "INFO:tensorflow:global_step/sec: 251.931\n",
      "INFO:tensorflow:loss = 0.50120103, step = 2500 (0.397 sec)\n",
      "INFO:tensorflow:global_step/sec: 264.804\n",
      "INFO:tensorflow:loss = 1.4689926, step = 2600 (0.379 sec)\n",
      "INFO:tensorflow:global_step/sec: 249.408\n",
      "INFO:tensorflow:loss = 1.3451502, step = 2700 (0.402 sec)\n",
      "INFO:tensorflow:global_step/sec: 258.618\n",
      "INFO:tensorflow:loss = 0.0808056, step = 2800 (0.384 sec)\n",
      "INFO:tensorflow:global_step/sec: 268.552\n",
      "INFO:tensorflow:loss = 0.52410287, step = 2900 (0.373 sec)\n",
      "INFO:tensorflow:Saving checkpoints for 3000 into ./models/iris/DNN/model.ckpt.\n",
      "INFO:tensorflow:Loss for final step: 0.6925594.\n"
     ]
    },
    {
     "data": {
      "text/plain": [
       "<tensorflow.python.estimator.canned.dnn.DNNClassifier at 0x7f2a71643470>"
      ]
     },
     "execution_count": 16,
     "metadata": {},
     "output_type": "execute_result"
    }
   ],
   "source": [
    "model.train(\n",
    "    input_fn=train_input_fn,\n",
    "    steps=3000)"
   ]
  },
  {
   "cell_type": "markdown",
   "metadata": {},
   "source": [
    "### Evaluate model on train and test data"
   ]
  },
  {
   "cell_type": "code",
   "execution_count": 17,
   "metadata": {},
   "outputs": [
    {
     "name": "stdout",
     "output_type": "stream",
     "text": [
      "INFO:tensorflow:Calling model_fn.\n",
      "INFO:tensorflow:Done calling model_fn.\n",
      "INFO:tensorflow:Starting evaluation at 2018-09-21-17:13:04\n",
      "INFO:tensorflow:Graph was finalized.\n",
      "INFO:tensorflow:Restoring parameters from ./models/iris/DNN/model.ckpt-3000\n",
      "INFO:tensorflow:Running local_init_op.\n",
      "INFO:tensorflow:Done running local_init_op.\n",
      "INFO:tensorflow:Finished evaluation at 2018-09-21-17:13:04\n",
      "INFO:tensorflow:Saving dict for global step 3000: accuracy = 0.9809524, average_loss = 0.03287781, global_step = 3000, loss = 0.8630425\n",
      "INFO:tensorflow:Saving 'checkpoint_path' summary for global step 3000: ./models/iris/DNN/model.ckpt-3000\n",
      "INFO:tensorflow:Calling model_fn.\n",
      "INFO:tensorflow:Done calling model_fn.\n",
      "INFO:tensorflow:Starting evaluation at 2018-09-21-17:13:05\n",
      "INFO:tensorflow:Graph was finalized.\n",
      "INFO:tensorflow:Restoring parameters from ./models/iris/DNN/model.ckpt-3000\n",
      "INFO:tensorflow:Running local_init_op.\n",
      "INFO:tensorflow:Done running local_init_op.\n",
      "INFO:tensorflow:Finished evaluation at 2018-09-21-17:13:05\n",
      "INFO:tensorflow:Saving dict for global step 3000: accuracy = 0.9777778, average_loss = 0.13602027, global_step = 3000, loss = 3.0604563\n",
      "INFO:tensorflow:Saving 'checkpoint_path' summary for global step 3000: ./models/iris/DNN/model.ckpt-3000\n"
     ]
    }
   ],
   "source": [
    "train_eval_result = model.evaluate(\n",
    "    input_fn=lambda:input_fn(X_train, y_train,\n",
    "                             batch_size,\n",
    "                             shuffle=False,\n",
    "                             repeat=1))\n",
    "\n",
    "test_eval_result = model.evaluate(\n",
    "    input_fn=lambda:input_fn(X_test, y_test,\n",
    "                             batch_size,\n",
    "                             shuffle=False,\n",
    "                             repeat=1))"
   ]
  },
  {
   "cell_type": "code",
   "execution_count": 18,
   "metadata": {},
   "outputs": [
    {
     "data": {
      "text/plain": [
       "{'accuracy': 0.9809524,\n",
       " 'average_loss': 0.03287781,\n",
       " 'loss': 0.8630425,\n",
       " 'global_step': 3000}"
      ]
     },
     "execution_count": 18,
     "metadata": {},
     "output_type": "execute_result"
    }
   ],
   "source": [
    "train_eval_result"
   ]
  },
  {
   "cell_type": "code",
   "execution_count": 19,
   "metadata": {},
   "outputs": [
    {
     "data": {
      "text/plain": [
       "{'accuracy': 0.9777778,\n",
       " 'average_loss': 0.13602027,\n",
       " 'loss': 3.0604563,\n",
       " 'global_step': 3000}"
      ]
     },
     "execution_count": 19,
     "metadata": {},
     "output_type": "execute_result"
    }
   ],
   "source": [
    "test_eval_result"
   ]
  },
  {
   "cell_type": "markdown",
   "metadata": {},
   "source": [
    "### Predict on new data"
   ]
  },
  {
   "cell_type": "code",
   "execution_count": 20,
   "metadata": {},
   "outputs": [],
   "source": [
    "predict_x = {\n",
    "    'sepal_length': [5.1, 5.9, 6.9],\n",
    "    'sepal_width': [3.3, 3.0, 3.1],\n",
    "    'petal_length': [1.7, 4.2, 5.4],\n",
    "    'petal_width': [0.5, 1.5, 2.1],\n",
    "}"
   ]
  },
  {
   "cell_type": "code",
   "execution_count": 21,
   "metadata": {},
   "outputs": [],
   "source": [
    "expected = ['setosa', 'versicolor', 'virginica']"
   ]
  },
  {
   "cell_type": "code",
   "execution_count": 22,
   "metadata": {},
   "outputs": [],
   "source": [
    "predictions = model.predict(\n",
    "    input_fn=lambda:input_fn(predict_x,\n",
    "                             labels=None,\n",
    "                             batch_size=batch_size,\n",
    "                             shuffle=False,\n",
    "                             repeat=1))"
   ]
  },
  {
   "cell_type": "code",
   "execution_count": 23,
   "metadata": {},
   "outputs": [
    {
     "data": {
      "text/plain": [
       "<generator object Estimator.predict at 0x7f2a4d4158e0>"
      ]
     },
     "execution_count": 23,
     "metadata": {},
     "output_type": "execute_result"
    }
   ],
   "source": [
    "predictions"
   ]
  },
  {
   "cell_type": "code",
   "execution_count": 24,
   "metadata": {},
   "outputs": [
    {
     "name": "stdout",
     "output_type": "stream",
     "text": [
      "INFO:tensorflow:Calling model_fn.\n",
      "INFO:tensorflow:Done calling model_fn.\n",
      "INFO:tensorflow:Graph was finalized.\n",
      "INFO:tensorflow:Restoring parameters from ./models/iris/DNN/model.ckpt-3000\n",
      "INFO:tensorflow:Running local_init_op.\n",
      "INFO:tensorflow:Done running local_init_op.\n",
      "\n",
      "Prediction is \"setosa\", prob: 100.0%, expected \"setosa\"\n",
      "\n",
      "Prediction is \"versicolor\", prob: 100.0%, expected \"versicolor\"\n",
      "\n",
      "Prediction is \"virginica\", prob: 99.9%, expected \"virginica\"\n"
     ]
    }
   ],
   "source": [
    "template = ('\\nPrediction is \"{}\", prob: {:.1f}%, expected \"{}\"')\n",
    "\n",
    "for pred_dict, expec in zip(predictions, expected):\n",
    "    \n",
    "    class_id = pred_dict['class_ids'][0]\n",
    "    probability = pred_dict['probabilities'][class_id]\n",
    "    pred_label = labels[class_id]\n",
    "\n",
    "    print(template.format(pred_label, 100 * probability, expec))"
   ]
  },
  {
   "cell_type": "code",
   "execution_count": 25,
   "metadata": {},
   "outputs": [
    {
     "data": {
      "text/plain": [
       "{'logits': array([-18.517982  ,  -0.11734152,   7.4038777 ], dtype=float32),\n",
       " 'probabilities': array([5.5213373e-12, 5.4117898e-04, 9.9945885e-01], dtype=float32),\n",
       " 'class_ids': array([2]),\n",
       " 'classes': array([b'virginica'], dtype=object)}"
      ]
     },
     "execution_count": 25,
     "metadata": {},
     "output_type": "execute_result"
    }
   ],
   "source": [
    "pred_dict"
   ]
  },
  {
   "cell_type": "markdown",
   "metadata": {},
   "source": [
    "## Exercise 1\n",
    "\n",
    "The `tf.estimator` module offers 2 additional canned classifiers:\n",
    "\n",
    "- `tf.estimator.BaselineClassifier`\n",
    "- `tf.estimator.LinearClassifier`\n",
    "\n",
    "What do they do?\n",
    "\n",
    "Try substituting them in the model definition and re-run the trainin, evaluation and prediction steps.\n",
    "Is the performance better or worse?\n",
    "\n",
    "Note: you can set the logging level of tensorflow with `tf.logging.set_verbosity`"
   ]
  },
  {
   "cell_type": "code",
   "execution_count": 33,
   "metadata": {
    "collapsed": true
   },
   "outputs": [
    {
     "name": "stdout",
     "output_type": "stream",
     "text": [
      "INFO:tensorflow:Using default config.\n",
      "INFO:tensorflow:Using config: {'_model_dir': './models/iris/Baseline/', '_tf_random_seed': None, '_save_summary_steps': 100, '_save_checkpoints_steps': None, '_save_checkpoints_secs': 600, '_session_config': None, '_keep_checkpoint_max': 5, '_keep_checkpoint_every_n_hours': 10000, '_log_step_count_steps': 100, '_train_distribute': None, '_device_fn': None, '_service': None, '_cluster_spec': <tensorflow.python.training.server_lib.ClusterSpec object at 0x7f2a6c2c80b8>, '_task_type': 'worker', '_task_id': 0, '_global_id_in_cluster': 0, '_master': '', '_evaluation_master': '', '_is_chief': True, '_num_ps_replicas': 0, '_num_worker_replicas': 1}\n"
     ]
    }
   ],
   "source": [
    "model = tf.estimator.BaselineClassifier(\n",
    "    model_dir='./models/iris/Baseline/',\n",
    "    n_classes=3,\n",
    "    label_vocabulary=labels,\n",
    "    optimizer='Adam')"
   ]
  },
  {
   "cell_type": "code",
   "execution_count": 34,
   "metadata": {},
   "outputs": [
    {
     "name": "stdout",
     "output_type": "stream",
     "text": [
      "INFO:tensorflow:Calling model_fn.\n",
      "INFO:tensorflow:Done calling model_fn.\n",
      "INFO:tensorflow:Create CheckpointSaverHook.\n",
      "INFO:tensorflow:Graph was finalized.\n",
      "INFO:tensorflow:Running local_init_op.\n",
      "INFO:tensorflow:Done running local_init_op.\n",
      "INFO:tensorflow:Saving checkpoints for 0 into ./models/iris/Baseline/model.ckpt.\n",
      "INFO:tensorflow:loss = 35.155594, step = 0\n",
      "INFO:tensorflow:global_step/sec: 245.114\n",
      "INFO:tensorflow:loss = 34.684048, step = 100 (0.413 sec)\n",
      "INFO:tensorflow:global_step/sec: 273.619\n",
      "INFO:tensorflow:loss = 34.897446, step = 200 (0.362 sec)\n",
      "INFO:tensorflow:global_step/sec: 319.096\n",
      "INFO:tensorflow:loss = 36.704643, step = 300 (0.313 sec)\n",
      "INFO:tensorflow:global_step/sec: 326.483\n",
      "INFO:tensorflow:loss = 35.619537, step = 400 (0.307 sec)\n",
      "INFO:tensorflow:global_step/sec: 322.908\n",
      "INFO:tensorflow:loss = 35.087463, step = 500 (0.311 sec)\n",
      "INFO:tensorflow:global_step/sec: 312.214\n",
      "INFO:tensorflow:loss = 35.78099, step = 600 (0.319 sec)\n",
      "INFO:tensorflow:global_step/sec: 318.009\n",
      "INFO:tensorflow:loss = 35.34401, step = 700 (0.314 sec)\n",
      "INFO:tensorflow:global_step/sec: 313.183\n",
      "INFO:tensorflow:loss = 35.211693, step = 800 (0.319 sec)\n",
      "INFO:tensorflow:global_step/sec: 315.575\n",
      "INFO:tensorflow:loss = 35.473854, step = 900 (0.318 sec)\n",
      "INFO:tensorflow:global_step/sec: 290.858\n",
      "INFO:tensorflow:loss = 35.53592, step = 1000 (0.343 sec)\n",
      "INFO:tensorflow:global_step/sec: 289.836\n",
      "INFO:tensorflow:loss = 35.558846, step = 1100 (0.344 sec)\n",
      "INFO:tensorflow:global_step/sec: 296.238\n",
      "INFO:tensorflow:loss = 35.94436, step = 1200 (0.337 sec)\n",
      "INFO:tensorflow:global_step/sec: 304.91\n",
      "INFO:tensorflow:loss = 35.32053, step = 1300 (0.329 sec)\n",
      "INFO:tensorflow:global_step/sec: 315.578\n",
      "INFO:tensorflow:loss = 35.229256, step = 1400 (0.317 sec)\n",
      "INFO:tensorflow:global_step/sec: 293.115\n",
      "INFO:tensorflow:loss = 35.097652, step = 1500 (0.340 sec)\n",
      "INFO:tensorflow:global_step/sec: 307.7\n",
      "INFO:tensorflow:loss = 35.103416, step = 1600 (0.327 sec)\n",
      "INFO:tensorflow:global_step/sec: 305.775\n",
      "INFO:tensorflow:loss = 34.440033, step = 1700 (0.326 sec)\n",
      "INFO:tensorflow:global_step/sec: 307.363\n",
      "INFO:tensorflow:loss = 36.796154, step = 1800 (0.325 sec)\n",
      "INFO:tensorflow:global_step/sec: 293.294\n",
      "INFO:tensorflow:loss = 35.104378, step = 1900 (0.342 sec)\n",
      "INFO:tensorflow:global_step/sec: 234.208\n",
      "INFO:tensorflow:loss = 36.345345, step = 2000 (0.427 sec)\n",
      "INFO:tensorflow:global_step/sec: 308.979\n",
      "INFO:tensorflow:loss = 33.58944, step = 2100 (0.324 sec)\n",
      "INFO:tensorflow:global_step/sec: 296.403\n",
      "INFO:tensorflow:loss = 36.053307, step = 2200 (0.336 sec)\n",
      "INFO:tensorflow:global_step/sec: 318.911\n",
      "INFO:tensorflow:loss = 34.842953, step = 2300 (0.315 sec)\n",
      "INFO:tensorflow:global_step/sec: 300.162\n",
      "INFO:tensorflow:loss = 35.14267, step = 2400 (0.331 sec)\n",
      "INFO:tensorflow:global_step/sec: 295.989\n",
      "INFO:tensorflow:loss = 35.69941, step = 2500 (0.338 sec)\n",
      "INFO:tensorflow:global_step/sec: 332.311\n",
      "INFO:tensorflow:loss = 35.080242, step = 2600 (0.301 sec)\n",
      "INFO:tensorflow:global_step/sec: 335.197\n",
      "INFO:tensorflow:loss = 35.59948, step = 2700 (0.300 sec)\n",
      "INFO:tensorflow:global_step/sec: 336.078\n",
      "INFO:tensorflow:loss = 34.815094, step = 2800 (0.296 sec)\n",
      "INFO:tensorflow:global_step/sec: 331.943\n",
      "INFO:tensorflow:loss = 34.90576, step = 2900 (0.301 sec)\n",
      "INFO:tensorflow:Saving checkpoints for 3000 into ./models/iris/Baseline/model.ckpt.\n",
      "INFO:tensorflow:Loss for final step: 34.45736.\n"
     ]
    },
    {
     "data": {
      "text/plain": [
       "<tensorflow.python.estimator.canned.baseline.BaselineClassifier at 0x7f2a6c305dd8>"
      ]
     },
     "execution_count": 34,
     "metadata": {},
     "output_type": "execute_result"
    }
   ],
   "source": [
    "model.train(input_fn=train_input_fn, steps=3000)"
   ]
  },
  {
   "cell_type": "code",
   "execution_count": 35,
   "metadata": {},
   "outputs": [
    {
     "name": "stdout",
     "output_type": "stream",
     "text": [
      "INFO:tensorflow:Calling model_fn.\n",
      "INFO:tensorflow:Done calling model_fn.\n",
      "INFO:tensorflow:Starting evaluation at 2018-09-21-17:26:54\n",
      "INFO:tensorflow:Graph was finalized.\n",
      "INFO:tensorflow:Restoring parameters from ./models/iris/Baseline/model.ckpt-3000\n",
      "INFO:tensorflow:Running local_init_op.\n",
      "INFO:tensorflow:Done running local_init_op.\n",
      "INFO:tensorflow:Finished evaluation at 2018-09-21-17:26:54\n",
      "INFO:tensorflow:Saving dict for global step 3000: accuracy = 0.37142858, average_loss = 1.0999277, global_step = 3000, loss = 28.8731\n",
      "INFO:tensorflow:Saving 'checkpoint_path' summary for global step 3000: ./models/iris/Baseline/model.ckpt-3000\n",
      "INFO:tensorflow:Calling model_fn.\n",
      "INFO:tensorflow:Done calling model_fn.\n",
      "INFO:tensorflow:Starting evaluation at 2018-09-21-17:26:55\n",
      "INFO:tensorflow:Graph was finalized.\n",
      "INFO:tensorflow:Restoring parameters from ./models/iris/Baseline/model.ckpt-3000\n",
      "INFO:tensorflow:Running local_init_op.\n",
      "INFO:tensorflow:Done running local_init_op.\n",
      "INFO:tensorflow:Finished evaluation at 2018-09-21-17:26:55\n",
      "INFO:tensorflow:Saving dict for global step 3000: accuracy = 0.24444444, average_loss = 1.1453903, global_step = 3000, loss = 25.77128\n",
      "INFO:tensorflow:Saving 'checkpoint_path' summary for global step 3000: ./models/iris/Baseline/model.ckpt-3000\n"
     ]
    }
   ],
   "source": [
    "train_eval_result = model.evaluate(input_fn=lambda:input_fn(X_train, y_train, batch_size, shuffle=False, repeat=1))\n",
    "test_eval_result = model.evaluate(input_fn=lambda:input_fn(X_test, y_test, batch_size, shuffle=False, repeat=1))"
   ]
  },
  {
   "cell_type": "code",
   "execution_count": 36,
   "metadata": {},
   "outputs": [
    {
     "data": {
      "text/plain": [
       "{'accuracy': 0.37142858,\n",
       " 'average_loss': 1.0999277,\n",
       " 'loss': 28.8731,\n",
       " 'global_step': 3000}"
      ]
     },
     "execution_count": 36,
     "metadata": {},
     "output_type": "execute_result"
    }
   ],
   "source": [
    "train_eval_result"
   ]
  },
  {
   "cell_type": "code",
   "execution_count": 37,
   "metadata": {},
   "outputs": [
    {
     "data": {
      "text/plain": [
       "{'accuracy': 0.24444444,\n",
       " 'average_loss': 1.1453903,\n",
       " 'loss': 25.77128,\n",
       " 'global_step': 3000}"
      ]
     },
     "execution_count": 37,
     "metadata": {},
     "output_type": "execute_result"
    }
   ],
   "source": [
    "test_eval_result"
   ]
  },
  {
   "cell_type": "code",
   "execution_count": 41,
   "metadata": {},
   "outputs": [
    {
     "name": "stdout",
     "output_type": "stream",
     "text": [
      "INFO:tensorflow:Using default config.\n",
      "INFO:tensorflow:Using config: {'_model_dir': './models/iris/Linear/', '_tf_random_seed': None, '_save_summary_steps': 100, '_save_checkpoints_steps': None, '_save_checkpoints_secs': 600, '_session_config': None, '_keep_checkpoint_max': 5, '_keep_checkpoint_every_n_hours': 10000, '_log_step_count_steps': 100, '_train_distribute': None, '_device_fn': None, '_service': None, '_cluster_spec': <tensorflow.python.training.server_lib.ClusterSpec object at 0x7f2a4d3b5a20>, '_task_type': 'worker', '_task_id': 0, '_global_id_in_cluster': 0, '_master': '', '_evaluation_master': '', '_is_chief': True, '_num_ps_replicas': 0, '_num_worker_replicas': 1}\n"
     ]
    }
   ],
   "source": [
    "model = tf.estimator.LinearClassifier(\n",
    "    feature_columns=feature_columns,\n",
    "    model_dir='./models/iris/Linear/',\n",
    "    n_classes=3,\n",
    "    label_vocabulary=labels,\n",
    "    optimizer='Adam')"
   ]
  },
  {
   "cell_type": "code",
   "execution_count": 42,
   "metadata": {},
   "outputs": [
    {
     "name": "stdout",
     "output_type": "stream",
     "text": [
      "INFO:tensorflow:Calling model_fn.\n",
      "INFO:tensorflow:Done calling model_fn.\n",
      "INFO:tensorflow:Create CheckpointSaverHook.\n",
      "INFO:tensorflow:Graph was finalized.\n",
      "INFO:tensorflow:Running local_init_op.\n",
      "INFO:tensorflow:Done running local_init_op.\n",
      "INFO:tensorflow:Saving checkpoints for 0 into ./models/iris/Linear/model.ckpt.\n",
      "INFO:tensorflow:loss = 35.155594, step = 0\n",
      "INFO:tensorflow:global_step/sec: 202.276\n",
      "INFO:tensorflow:loss = 3.5206366, step = 100 (0.496 sec)\n",
      "INFO:tensorflow:global_step/sec: 235.441\n",
      "INFO:tensorflow:loss = 2.9380765, step = 200 (0.425 sec)\n",
      "INFO:tensorflow:global_step/sec: 219.536\n",
      "INFO:tensorflow:loss = 2.687008, step = 300 (0.455 sec)\n",
      "INFO:tensorflow:global_step/sec: 235.655\n",
      "INFO:tensorflow:loss = 1.3233175, step = 400 (0.425 sec)\n",
      "INFO:tensorflow:global_step/sec: 244.79\n",
      "INFO:tensorflow:loss = 0.5299399, step = 500 (0.408 sec)\n",
      "INFO:tensorflow:global_step/sec: 245.632\n",
      "INFO:tensorflow:loss = 3.3368106, step = 600 (0.409 sec)\n",
      "INFO:tensorflow:global_step/sec: 249.538\n",
      "INFO:tensorflow:loss = 1.8014199, step = 700 (0.399 sec)\n",
      "INFO:tensorflow:global_step/sec: 247.732\n",
      "INFO:tensorflow:loss = 1.5069069, step = 800 (0.404 sec)\n",
      "INFO:tensorflow:global_step/sec: 246.008\n",
      "INFO:tensorflow:loss = 0.6385911, step = 900 (0.409 sec)\n",
      "INFO:tensorflow:global_step/sec: 245.331\n",
      "INFO:tensorflow:loss = 0.41198543, step = 1000 (0.405 sec)\n",
      "INFO:tensorflow:global_step/sec: 252.202\n",
      "INFO:tensorflow:loss = 0.8446627, step = 1100 (0.396 sec)\n",
      "INFO:tensorflow:global_step/sec: 245.023\n",
      "INFO:tensorflow:loss = 1.2791882, step = 1200 (0.410 sec)\n",
      "INFO:tensorflow:global_step/sec: 238.241\n",
      "INFO:tensorflow:loss = 0.26465717, step = 1300 (0.419 sec)\n",
      "INFO:tensorflow:global_step/sec: 250.288\n",
      "INFO:tensorflow:loss = 1.2752897, step = 1400 (0.402 sec)\n",
      "INFO:tensorflow:global_step/sec: 243.501\n",
      "INFO:tensorflow:loss = 1.6946532, step = 1500 (0.408 sec)\n",
      "INFO:tensorflow:global_step/sec: 249.244\n",
      "INFO:tensorflow:loss = 2.1516676, step = 1600 (0.402 sec)\n",
      "INFO:tensorflow:global_step/sec: 247.59\n",
      "INFO:tensorflow:loss = 1.3222139, step = 1700 (0.403 sec)\n",
      "INFO:tensorflow:global_step/sec: 249.091\n",
      "INFO:tensorflow:loss = 0.513007, step = 1800 (0.404 sec)\n",
      "INFO:tensorflow:global_step/sec: 251.463\n",
      "INFO:tensorflow:loss = 0.0734805, step = 1900 (0.396 sec)\n",
      "INFO:tensorflow:global_step/sec: 247.013\n",
      "INFO:tensorflow:loss = 1.231784, step = 2000 (0.405 sec)\n",
      "INFO:tensorflow:global_step/sec: 249.496\n",
      "INFO:tensorflow:loss = 1.3047812, step = 2100 (0.400 sec)\n",
      "INFO:tensorflow:global_step/sec: 246.379\n",
      "INFO:tensorflow:loss = 1.4304394, step = 2200 (0.406 sec)\n",
      "INFO:tensorflow:global_step/sec: 244.49\n",
      "INFO:tensorflow:loss = 2.0925996, step = 2300 (0.408 sec)\n",
      "INFO:tensorflow:global_step/sec: 250.143\n",
      "INFO:tensorflow:loss = 0.060699318, step = 2400 (0.400 sec)\n",
      "INFO:tensorflow:global_step/sec: 249.74\n",
      "INFO:tensorflow:loss = 0.61521053, step = 2500 (0.400 sec)\n",
      "INFO:tensorflow:global_step/sec: 246.949\n",
      "INFO:tensorflow:loss = 1.6545954, step = 2600 (0.405 sec)\n",
      "INFO:tensorflow:global_step/sec: 248.428\n",
      "INFO:tensorflow:loss = 0.35575914, step = 2700 (0.402 sec)\n",
      "INFO:tensorflow:global_step/sec: 243.946\n",
      "INFO:tensorflow:loss = 5.1665754, step = 2800 (0.410 sec)\n",
      "INFO:tensorflow:global_step/sec: 246.1\n",
      "INFO:tensorflow:loss = 4.7716036, step = 2900 (0.406 sec)\n",
      "INFO:tensorflow:Saving checkpoints for 3000 into ./models/iris/Linear/model.ckpt.\n",
      "INFO:tensorflow:Loss for final step: 0.12591177.\n"
     ]
    },
    {
     "data": {
      "text/plain": [
       "<tensorflow.python.estimator.canned.linear.LinearClassifier at 0x7f2a4d3b5208>"
      ]
     },
     "execution_count": 42,
     "metadata": {},
     "output_type": "execute_result"
    }
   ],
   "source": [
    "model.train(input_fn=train_input_fn, steps=3000)"
   ]
  },
  {
   "cell_type": "code",
   "execution_count": 43,
   "metadata": {},
   "outputs": [
    {
     "name": "stdout",
     "output_type": "stream",
     "text": [
      "INFO:tensorflow:Calling model_fn.\n",
      "INFO:tensorflow:Done calling model_fn.\n",
      "INFO:tensorflow:Starting evaluation at 2018-09-21-17:30:39\n",
      "INFO:tensorflow:Graph was finalized.\n",
      "INFO:tensorflow:Restoring parameters from ./models/iris/Linear/model.ckpt-3000\n",
      "INFO:tensorflow:Running local_init_op.\n",
      "INFO:tensorflow:Done running local_init_op.\n",
      "INFO:tensorflow:Finished evaluation at 2018-09-21-17:30:40\n",
      "INFO:tensorflow:Saving dict for global step 3000: accuracy = 1.0, average_loss = 0.026492368, global_step = 3000, loss = 0.6954247\n",
      "INFO:tensorflow:Saving 'checkpoint_path' summary for global step 3000: ./models/iris/Linear/model.ckpt-3000\n",
      "INFO:tensorflow:Calling model_fn.\n",
      "INFO:tensorflow:Done calling model_fn.\n",
      "INFO:tensorflow:Starting evaluation at 2018-09-21-17:30:40\n",
      "INFO:tensorflow:Graph was finalized.\n",
      "INFO:tensorflow:Restoring parameters from ./models/iris/Linear/model.ckpt-3000\n",
      "INFO:tensorflow:Running local_init_op.\n",
      "INFO:tensorflow:Done running local_init_op.\n",
      "INFO:tensorflow:Finished evaluation at 2018-09-21-17:30:40\n",
      "INFO:tensorflow:Saving dict for global step 3000: accuracy = 0.9777778, average_loss = 0.10586121, global_step = 3000, loss = 2.3818772\n",
      "INFO:tensorflow:Saving 'checkpoint_path' summary for global step 3000: ./models/iris/Linear/model.ckpt-3000\n"
     ]
    }
   ],
   "source": [
    "train_eval_result = model.evaluate(input_fn=lambda:input_fn(X_train, y_train, batch_size, shuffle=False, repeat=1))\n",
    "test_eval_result = model.evaluate(input_fn=lambda:input_fn(X_test, y_test, batch_size, shuffle=False, repeat=1))"
   ]
  },
  {
   "cell_type": "code",
   "execution_count": 44,
   "metadata": {},
   "outputs": [
    {
     "data": {
      "text/plain": [
       "{'accuracy': 1.0,\n",
       " 'average_loss': 0.026492368,\n",
       " 'loss': 0.6954247,\n",
       " 'global_step': 3000}"
      ]
     },
     "execution_count": 44,
     "metadata": {},
     "output_type": "execute_result"
    }
   ],
   "source": [
    "train_eval_result"
   ]
  },
  {
   "cell_type": "code",
   "execution_count": 45,
   "metadata": {},
   "outputs": [
    {
     "data": {
      "text/plain": [
       "{'accuracy': 0.9777778,\n",
       " 'average_loss': 0.10586121,\n",
       " 'loss': 2.3818772,\n",
       " 'global_step': 3000}"
      ]
     },
     "execution_count": 45,
     "metadata": {},
     "output_type": "execute_result"
    }
   ],
   "source": [
    "test_eval_result"
   ]
  },
  {
   "cell_type": "markdown",
   "metadata": {},
   "source": [
    "## Exercise 2\n",
    "\n",
    "Visualize the training results with tensorboard:\n",
    "\n",
    "- in a terminal, from the notebook folder, run tensorboard with `tensorboard --logdir=models`\n",
    "- open the browser at [http://localhost:6006](http://localhost:6006)\n",
    "\n"
   ]
  },
  {
   "cell_type": "code",
   "execution_count": null,
   "metadata": {
    "collapsed": true
   },
   "outputs": [],
   "source": []
  }
 ],
 "metadata": {
  "kernelspec": {
   "display_name": "Python 3",
   "language": "python",
   "name": "python3"
  },
  "language_info": {
   "codemirror_mode": {
    "name": "ipython",
    "version": 3
   },
   "file_extension": ".py",
   "mimetype": "text/x-python",
   "name": "python",
   "nbconvert_exporter": "python",
   "pygments_lexer": "ipython3",
   "version": "3.6.6"
  }
 },
 "nbformat": 4,
 "nbformat_minor": 2
}
